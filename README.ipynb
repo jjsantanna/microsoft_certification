{
 "cells": [
  {
   "cell_type": "markdown",
   "id": "a1e71f0a",
   "metadata": {},
   "source": [
    "# Crawler on the Microsoft Certifications"
   ]
  },
  {
   "cell_type": "markdown",
   "id": "ca5afcd2",
   "metadata": {},
   "source": [
    "On 7/10/2021\n",
    "- https://docs.microsoft.com/en-us/learn/certifications/browse/\n",
    "- 286 entries (exams + certifications)\n",
    "- Types: Fundamentals -> Associate -> Expert (there is also MCE, MCSA, MCSD, MCSE, MOS, MTA, Role-based, and Specialty)\n",
    "\n",
    "- Azure certification roadmap or path\n",
    "- Microsoft **\"learning path\"**\n",
    "\n",
    "- Exam SC-900: Microsoft Certified: Security, Compliance, and Identity Fundamentals (Fundamentals)\n",
    "- Exam SC-200: Microsoft Security Operations Analyst (Associate)\n",
    "- Exam MS-500: Security Administrator (Associate)\n",
    "- Exam AZ-500: Azure Security Engineer (Associate)\n",
    "- Exam MS-101: Microsoft 365 Mobility and Security\n",
    "- Exam MS-100: Microsoft 365 Identity and Services\n"
   ]
  },
  {
   "cell_type": "code",
   "execution_count": 1,
   "id": "004ad66d",
   "metadata": {},
   "outputs": [],
   "source": [
    "url = \"https://docs.microsoft.com/en-us/learn/certifications/browse/\"\n",
    "url_security = \"https://docs.microsoft.com/en-us/learn/certifications/browse/?terms=security\""
   ]
  },
  {
   "cell_type": "code",
   "execution_count": null,
   "id": "98a1c035",
   "metadata": {},
   "outputs": [],
   "source": []
  }
 ],
 "metadata": {
  "kernelspec": {
   "display_name": "Python 3",
   "language": "python",
   "name": "python3"
  },
  "language_info": {
   "codemirror_mode": {
    "name": "ipython",
    "version": 3
   },
   "file_extension": ".py",
   "mimetype": "text/x-python",
   "name": "python",
   "nbconvert_exporter": "python",
   "pygments_lexer": "ipython3",
   "version": "3.9.6"
  }
 },
 "nbformat": 4,
 "nbformat_minor": 5
}
