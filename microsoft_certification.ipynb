{
 "cells": [
  {
   "cell_type": "markdown",
   "id": "a1e71f0a",
   "metadata": {},
   "source": [
    "# Microsoft Certifications Notes"
   ]
  },
  {
   "cell_type": "markdown",
   "id": "ca5afcd2",
   "metadata": {},
   "source": [
    "[On 7/10/2021]\n",
    "\n",
    "- https://docs.microsoft.com/en-us/learn/certifications/browse/ -> 286 entries (exams + certifications)\n",
    "- Types: Fundamentals -> Associate -> Expert (there is also MCE, MCSA, MCSD, MCSE, MOS, MTA, Role-based, and Specialty)\n",
    "\n",
    "\n",
    "- https://docs.microsoft.com/en-us/learn/certifications/browse/?terms=security -> 12 entries\n",
    "1. EXAM Exam MS-101: Microsoft 365 Mobility and Security\n",
    "2. EXAM Exam AZ-101: Microsoft Azure Integration and Security\n",
    "3. EXAM Exam SC-200: Microsoft Security Operations Analyst\n",
    "4. CERTIFICATION Microsoft Certified: Security Operations Analyst Associate (Exam SC-200)\n",
    "5. EXAM Exam SC-900: Microsoft Security, Compliance, and Identity Fundamentals\n",
    "6. CERTIFICATION Microsoft Certified: Security, Compliance, and Identity Fundamentals (Exam SC-900)\n",
    "7. EXAM Exam AZ-500: Microsoft Azure Security Technologies\n",
    "8. CERTIFICATION Microsoft Certified: Azure Security Engineer Associate (Exam AZ-500)\n",
    "9. EXAM Exam MS-500: Microsoft 365 Security Administration\n",
    "10. CERTIFICATION Microsoft 365 Certified: Security Administrator Associate (Exam MS-500)\n",
    "11. EXAM Exam 98-367: Security Fundamentals\n",
    "12. CERTIFICATION MTA: Security Fundamentals (Exam 98-367)\n",
    "\n",
    "- https://docs.microsoft.com/en-us/learn/certifications/browse/?terms=administrator -> 19 entries\n",
    "1. EXAM Exam AZ-102: Microsoft Azure Administrator Certification Transition\n",
    "2. EXAM Exam AZ-103: Microsoft Azure Administrator\n",
    "3. EXAM Exam AZ-104: Microsoft Azure Administrator\n",
    "4. CERTIFICATION Microsoft Certified: Azure Administrator Associate (Exam AZ-104)\n",
    "5. CERTIFICATION Microsoft Certified: Azure Administrator Associate (Legacy) (Exam AZ-100, AZ-101, AZ-103)\n",
    "6. EXAM Exam MS-202: Microsoft 365 Messaging Administrator Certification Transition\n",
    "7. CERTIFICATION Microsoft 365 Certified: Messaging Administrator Associate (Exam MS-203)\n",
    "8. CERTIFICATION Microsoft 365 Certified: Enterprise Administrator Expert (Exam MS-100, MS-101)\n",
    "9. EXAM Exam SC-300: Microsoft Identity and Access Administrator\n",
    "10. CERTIFICATION Microsoft 365 Certified: Teamwork Administrator Associate (Exam MS-300, MS-301)\n",
    "11. EXAM Exam MS-302: Microsoft 365 Teamwork Administrator Certification Transition\n",
    "12. EXAM Exam SC-400: Microsoft Information Protection Administrator\n",
    "13. CERTIFICATION Microsoft Certified: Information Protection Administrator Associate (Exam SC-400)\n",
    "14. CERTIFICATION Microsoft Certified: Identity and Access Administrator Associate (Exam SC-300)\n",
    "15. CERTIFICATION Microsoft 365 Certified: Security Administrator Associate (Exam MS-500)\n",
    "16. CERTIFICATION Microsoft 365 Certified: Teams Administrator Associate (Exam MS-700)\n",
    "17. CERTIFICATION Microsoft 365 Certified: Modern Desktop Administrator Associate (Exam MD-100, MD-101)\n",
    "18. CERTIFICATION Microsoft Certified: Azure Database Administrator Associate (Exam DP-300)\n",
    "19. CERTIFICATION Microsoft Certified: Windows Server Hybrid Administrator Associate (Exam AZ-800, AZ-801)"
   ]
  }
 ],
 "metadata": {
  "kernelspec": {
   "display_name": "Python 3",
   "language": "python",
   "name": "python3"
  },
  "language_info": {
   "codemirror_mode": {
    "name": "ipython",
    "version": 3
   },
   "file_extension": ".py",
   "mimetype": "text/x-python",
   "name": "python",
   "nbconvert_exporter": "python",
   "pygments_lexer": "ipython3",
   "version": "3.9.6"
  }
 },
 "nbformat": 4,
 "nbformat_minor": 5
}
